{
 "cells": [
  {
   "cell_type": "code",
   "execution_count": 1,
   "metadata": {},
   "outputs": [
    {
     "data": {
      "text/plain": [
       "True"
      ]
     },
     "execution_count": 1,
     "metadata": {},
     "output_type": "execute_result"
    }
   ],
   "source": [
    "import numpy as np\n",
    "import cv2\n",
    "import matplotlib.pyplot as plt\n",
    "\n",
    "# 图6-1中的矩阵\n",
    "img = np.array([\n",
    "    [[255, 0, 0], [0, 255, 0], [0, 0, 255]],\n",
    "    [[255, 255, 0], [255, 0, 255], [0, 255, 255]],\n",
    "    [[255, 255, 255], [128, 128, 128], [0, 0, 0]],\n",
    "], dtype=np.uint8)\n",
    "\n",
    "# 用matplotlib存储\n",
    "plt.imsave('img_pyplot.jpg', img)\n",
    "\n",
    "# 用OpenCV存储\n",
    "cv2.imwrite('img_cv2.jpg', img)"
   ]
  },
  {
   "cell_type": "code",
   "execution_count": null,
   "metadata": {},
   "outputs": [],
   "source": [
    "# 1.the example above shows used to show how to use the opencv to make the image\n",
    "# 2.and save the image"
   ]
  },
  {
   "cell_type": "code",
   "execution_count": 2,
   "metadata": {},
   "outputs": [
    {
     "name": "stdout",
     "output_type": "stream",
     "text": [
      "(3, 3, 3)\n",
      "(3, 3)\n",
      "(3, 3, 3)\n"
     ]
    },
    {
     "data": {
      "text/plain": [
       "True"
      ]
     },
     "execution_count": 2,
     "metadata": {},
     "output_type": "execute_result"
    }
   ],
   "source": [
    "import cv2\n",
    "\n",
    "# 读取一张400x600分辨率的图像(还未尝试)， 现在用的是一个3x3的图片\n",
    "color_img = cv2.imread('img_cv2.jpg')\n",
    "print(color_img.shape) #shape 所显示的结果为（高，宽，通道数）\n",
    "\n",
    "# 直接读取单通道\n",
    "gray_img = cv2.imread('img_cv2.jpg', cv2.IMREAD_GRAYSCALE)\n",
    "print(gray_img.shape)\n",
    "\n",
    "# 把单通道图片保存后，再读取，仍然是3通道，相当于把单通道值复制到3个通道保存\n",
    "cv2.imwrite('test_grayscale.jpg', gray_img)\n",
    "reload_grayscale = cv2.imread('test_grayscale.jpg')\n",
    "print(reload_grayscale.shape)\n",
    "\n",
    "# cv2.IMWRITE_JPEG_QUALITY指定jpg质量，范围0到100，默认95，越高画质越好，文件越大\n",
    "cv2.imwrite('test_imwrite.jpg', color_img, (cv2.IMWRITE_JPEG_QUALITY, 80))\n",
    "\n",
    "# cv2.IMWRITE_PNG_COMPRESSION指定png质量，范围0到9，默认3，越高文件越小，画质越差\n",
    "cv2.imwrite('test_imwrite.png', color_img, (cv2.IMWRITE_PNG_COMPRESSION, 5))"
   ]
  },
  {
   "cell_type": "code",
   "execution_count": null,
   "metadata": {},
   "outputs": [],
   "source": [
    "#compare the different read strategy"
   ]
  },
  {
   "cell_type": "code",
   "execution_count": 3,
   "metadata": {},
   "outputs": [
    {
     "name": "stdout",
     "output_type": "stream",
     "text": [
      "(3, 3, 3)\n"
     ]
    }
   ],
   "source": [
    "import cv2\n",
    "\n",
    "# 读取一张400x600分辨率的图像(还未尝试)， 现在用的是一个3x3的图片\n",
    "color_img = cv2.imread('img_cv2.jpg')\n",
    "print(color_img.shape)\n"
   ]
  },
  {
   "cell_type": "code",
   "execution_count": 1,
   "metadata": {},
   "outputs": [
    {
     "data": {
      "text/plain": [
       "True"
      ]
     },
     "execution_count": 1,
     "metadata": {},
     "output_type": "execute_result"
    }
   ],
   "source": [
    "#使用OpenCV 进行缩放，裁剪和补边\n",
    "import cv2\n",
    "\n",
    "# 读取一张四川大录古藏寨的照片\n",
    "img = cv2.imread('Tibet.jpg')\n",
    "\n",
    "# 缩放成200x200的方形图像\n",
    "img_200x200 = cv2.resize(img, (200, 200))\n",
    "\n",
    "# 不直接指定缩放后大小，通过fx和fy指定缩放比例，0.5则长宽都为原来一半\n",
    "# 等效于img_200x300 = cv2.resize(img, (300, 200))，注意指定大小的格式是(宽度,高度)\n",
    "# 插值方法默认是cv2.INTER_LINEAR，这里指定为最近邻插值 \n",
    "#if you want to set the resize by desize then fx,fy, as 0, 0\n",
    "#if want to set the fx,fy then the size as (0,0)\n",
    "img_200x300 = cv2.resize(img, (0, 0), fx=0.5, fy=0.5, \n",
    "                              interpolation=cv2.INTER_NEAREST)\n",
    "\n",
    "# 在上张图片的基础上，上下各贴50像素的黑边，生成300x300的图像\n",
    "img_300x300 = cv2.copyMakeBorder(img, 50, 50, 0, 0, \n",
    "                                       cv2.BORDER_CONSTANT, \n",
    "                                       value=(0, 0, 0))\n",
    "\n",
    "# 对照片中树的部分进行剪裁\n",
    "patch_tree = img[20:150, -180:-50]\n",
    "\n",
    "cv2.imwrite('cropped_tree.jpg', patch_tree)\n",
    "cv2.imwrite('resized_200x200.jpg', img_200x200)\n",
    "cv2.imwrite('resized_200x300.jpg', img_200x300)\n",
    "cv2.imwrite('bordered_300x300.jpg', img_300x300)"
   ]
  },
  {
   "cell_type": "code",
   "execution_count": null,
   "metadata": {},
   "outputs": [],
   "source": [
    "#The x, y of the picture in the opencv as start from the left top corner as (0,0)\n",
    "#the value of y will be negtive as goes down and x will be positive goes left"
   ]
  },
  {
   "cell_type": "code",
   "execution_count": 2,
   "metadata": {},
   "outputs": [
    {
     "data": {
      "text/plain": [
       "True"
      ]
     },
     "execution_count": 2,
     "metadata": {},
     "output_type": "execute_result"
    }
   ],
   "source": [
    "\n",
    "# 通过cv2.cvtColor把图像从BGR转换到HSV\n",
    "img_hsv = cv2.cvtColor(img, cv2.COLOR_BGR2HSV)\n",
    "\n",
    "# H空间中，绿色比黄色的值高一点，所以给每个像素+15，黄色的树叶就会变绿\n",
    "turn_green_hsv = img_hsv.copy()\n",
    "turn_green_hsv[:, :, 0] = (turn_green_hsv[:, :, 0]+15) % 180\n",
    "turn_green_img = cv2.cvtColor(turn_green_hsv, cv2.COLOR_HSV2BGR)\n",
    "cv2.imwrite('turn_green.jpg', turn_green_img)\n",
    "\n",
    "# 减小饱和度会让图像损失鲜艳，变得更灰\n",
    "colorless_hsv = img_hsv.copy()\n",
    "colorless_hsv[:, :, 1] = 0.5 * colorless_hsv[:, :, 1]\n",
    "colorless_img = cv2.cvtColor(colorless_hsv, cv2.COLOR_HSV2BGR)\n",
    "cv2.imwrite('colorless.jpg', colorless_img)\n",
    "\n",
    "# 减小明度为原来一半\n",
    "darker_hsv = img_hsv.copy()\n",
    "darker_hsv[:, :, 2] = 0.5 * darker_hsv[:, :, 2]\n",
    "darker_img = cv2.cvtColor(darker_hsv, cv2.COLOR_HSV2BGR)\n",
    "cv2.imwrite('darker.jpg', darker_img)"
   ]
  },
  {
   "cell_type": "code",
   "execution_count": null,
   "metadata": {},
   "outputs": [],
   "source": []
  }
 ],
 "metadata": {
  "kernelspec": {
   "display_name": "Python 3",
   "language": "python",
   "name": "python3"
  },
  "language_info": {
   "codemirror_mode": {
    "name": "ipython",
    "version": 3
   },
   "file_extension": ".py",
   "mimetype": "text/x-python",
   "name": "python",
   "nbconvert_exporter": "python",
   "pygments_lexer": "ipython3",
   "version": "3.6.3"
  }
 },
 "nbformat": 4,
 "nbformat_minor": 2
}
